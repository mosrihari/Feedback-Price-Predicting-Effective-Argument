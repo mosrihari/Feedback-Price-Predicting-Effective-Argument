{
 "cells": [
  {
   "cell_type": "code",
   "execution_count": 1,
   "id": "ecb6dc20",
   "metadata": {
    "_cell_guid": "b1076dfc-b9ad-4769-8c92-a6c4dae69d19",
    "_uuid": "8f2839f25d086af736a60e9eeb907d3b93b6e0e5",
    "execution": {
     "iopub.execute_input": "2022-08-15T09:06:13.744874Z",
     "iopub.status.busy": "2022-08-15T09:06:13.744348Z",
     "iopub.status.idle": "2022-08-15T09:06:27.588375Z",
     "shell.execute_reply": "2022-08-15T09:06:27.587400Z"
    },
    "papermill": {
     "duration": 13.858723,
     "end_time": "2022-08-15T09:06:27.591658",
     "exception": false,
     "start_time": "2022-08-15T09:06:13.732935",
     "status": "completed"
    },
    "tags": []
   },
   "outputs": [
    {
     "name": "stdout",
     "output_type": "stream",
     "text": [
      "tokenizers.__version__: 0.12.1\n",
      "transformers.__version__: 4.20.1\n"
     ]
    },
    {
     "name": "stderr",
     "output_type": "stream",
     "text": [
      "2022-08-15 09:06:22.139965: I tensorflow/stream_executor/cuda/cuda_gpu_executor.cc:937] successful NUMA node read from SysFS had negative value (-1), but there must be at least one NUMA node, so returning NUMA node zero\n",
      "2022-08-15 09:06:22.141163: I tensorflow/stream_executor/cuda/cuda_gpu_executor.cc:937] successful NUMA node read from SysFS had negative value (-1), but there must be at least one NUMA node, so returning NUMA node zero\n",
      "2022-08-15 09:06:22.141842: I tensorflow/stream_executor/cuda/cuda_gpu_executor.cc:937] successful NUMA node read from SysFS had negative value (-1), but there must be at least one NUMA node, so returning NUMA node zero\n",
      "2022-08-15 09:06:22.143842: I tensorflow/core/platform/cpu_feature_guard.cc:142] This TensorFlow binary is optimized with oneAPI Deep Neural Network Library (oneDNN) to use the following CPU instructions in performance-critical operations:  AVX2 AVX512F FMA\n",
      "To enable them in other operations, rebuild TensorFlow with the appropriate compiler flags.\n",
      "2022-08-15 09:06:22.144175: I tensorflow/stream_executor/cuda/cuda_gpu_executor.cc:937] successful NUMA node read from SysFS had negative value (-1), but there must be at least one NUMA node, so returning NUMA node zero\n",
      "2022-08-15 09:06:22.144883: I tensorflow/stream_executor/cuda/cuda_gpu_executor.cc:937] successful NUMA node read from SysFS had negative value (-1), but there must be at least one NUMA node, so returning NUMA node zero\n",
      "2022-08-15 09:06:22.145623: I tensorflow/stream_executor/cuda/cuda_gpu_executor.cc:937] successful NUMA node read from SysFS had negative value (-1), but there must be at least one NUMA node, so returning NUMA node zero\n",
      "2022-08-15 09:06:27.196007: I tensorflow/stream_executor/cuda/cuda_gpu_executor.cc:937] successful NUMA node read from SysFS had negative value (-1), but there must be at least one NUMA node, so returning NUMA node zero\n",
      "2022-08-15 09:06:27.196836: I tensorflow/stream_executor/cuda/cuda_gpu_executor.cc:937] successful NUMA node read from SysFS had negative value (-1), but there must be at least one NUMA node, so returning NUMA node zero\n",
      "2022-08-15 09:06:27.197547: I tensorflow/stream_executor/cuda/cuda_gpu_executor.cc:937] successful NUMA node read from SysFS had negative value (-1), but there must be at least one NUMA node, so returning NUMA node zero\n",
      "2022-08-15 09:06:27.198175: I tensorflow/core/common_runtime/gpu/gpu_device.cc:1510] Created device /job:localhost/replica:0/task:0/device:GPU:0 with 15047 MB memory:  -> device: 0, name: Tesla P100-PCIE-16GB, pci bus id: 0000:00:04.0, compute capability: 6.0\n"
     ]
    }
   ],
   "source": [
    "import numpy as np # linear algebra\n",
    "import pandas as pd # data processing, CSV file I/O (e.g. pd.read_csv)\n",
    "\n",
    "# Input data files are available in the read-only \"../input/\" directory\n",
    "# For example, running this (by clicking run or pressing Shift+Enter) will list all files under the input directory\n",
    "import re\n",
    "import os\n",
    "import tokenizers\n",
    "import transformers\n",
    "print(f\"tokenizers.__version__: {tokenizers.__version__}\")\n",
    "print(f\"transformers.__version__: {transformers.__version__}\")\n",
    "from transformers import AutoTokenizer, AutoModel, AutoConfig, DebertaTokenizer, BertTokenizer, TFAutoModel\n",
    "from transformers import get_linear_schedule_with_warmup, get_cosine_schedule_with_warmup\n",
    "from transformers import TFDebertaModel\n",
    "import tensorflow as tf\n",
    "from sklearn.model_selection import StratifiedKFold"
   ]
  },
  {
   "cell_type": "code",
   "execution_count": 2,
   "id": "d5fa7906",
   "metadata": {
    "execution": {
     "iopub.execute_input": "2022-08-15T09:06:27.611691Z",
     "iopub.status.busy": "2022-08-15T09:06:27.610421Z",
     "iopub.status.idle": "2022-08-15T09:06:27.615749Z",
     "shell.execute_reply": "2022-08-15T09:06:27.614875Z"
    },
    "papermill": {
     "duration": 0.016911,
     "end_time": "2022-08-15T09:06:27.617751",
     "exception": false,
     "start_time": "2022-08-15T09:06:27.600840",
     "status": "completed"
    },
    "tags": []
   },
   "outputs": [],
   "source": [
    "label_mapping = {\"Adequate\":0, \"Effective\":1, \"Ineffective\":2}"
   ]
  },
  {
   "cell_type": "code",
   "execution_count": 3,
   "id": "18d1d769",
   "metadata": {
    "execution": {
     "iopub.execute_input": "2022-08-15T09:06:27.635203Z",
     "iopub.status.busy": "2022-08-15T09:06:27.634944Z",
     "iopub.status.idle": "2022-08-15T09:06:27.919528Z",
     "shell.execute_reply": "2022-08-15T09:06:27.918555Z"
    },
    "papermill": {
     "duration": 0.296168,
     "end_time": "2022-08-15T09:06:27.922091",
     "exception": false,
     "start_time": "2022-08-15T09:06:27.625923",
     "status": "completed"
    },
    "tags": []
   },
   "outputs": [],
   "source": [
    "TEST_DIR = \"../input/feedback-prize-effectiveness\"\n",
    "TRAIN_FOLDS_DIR = '../input/feedbacktrainfolds'\n",
    "train = pd.read_csv(f\"{TRAIN_FOLDS_DIR}/train_folds.csv\")\n",
    "test = pd.read_csv(f\"{TEST_DIR}/test.csv\")\n",
    "submission = pd.read_csv(f\"{TEST_DIR}/sample_submission.csv\")"
   ]
  },
  {
   "cell_type": "markdown",
   "id": "c033ee55",
   "metadata": {
    "papermill": {
     "duration": 0.008159,
     "end_time": "2022-08-15T09:06:27.938853",
     "exception": false,
     "start_time": "2022-08-15T09:06:27.930694",
     "status": "completed"
    },
    "tags": []
   },
   "source": [
    "# Without Essay text- Bert"
   ]
  },
  {
   "cell_type": "code",
   "execution_count": 4,
   "id": "eeea0082",
   "metadata": {
    "execution": {
     "iopub.execute_input": "2022-08-15T09:06:27.958107Z",
     "iopub.status.busy": "2022-08-15T09:06:27.957085Z",
     "iopub.status.idle": "2022-08-15T09:06:28.026331Z",
     "shell.execute_reply": "2022-08-15T09:06:28.025450Z"
    },
    "papermill": {
     "duration": 0.080565,
     "end_time": "2022-08-15T09:06:28.028535",
     "exception": false,
     "start_time": "2022-08-15T09:06:27.947970",
     "status": "completed"
    },
    "tags": []
   },
   "outputs": [],
   "source": [
    "tokenizer = BertTokenizer.from_pretrained(\"../input/huggingface-bert-variants/bert-base-cased/bert-base-cased\")"
   ]
  },
  {
   "cell_type": "code",
   "execution_count": 5,
   "id": "bfc67808",
   "metadata": {
    "execution": {
     "iopub.execute_input": "2022-08-15T09:06:28.046539Z",
     "iopub.status.busy": "2022-08-15T09:06:28.046240Z",
     "iopub.status.idle": "2022-08-15T09:06:34.637564Z",
     "shell.execute_reply": "2022-08-15T09:06:34.636678Z"
    },
    "papermill": {
     "duration": 6.602874,
     "end_time": "2022-08-15T09:06:34.639728",
     "exception": false,
     "start_time": "2022-08-15T09:06:28.036854",
     "status": "completed"
    },
    "tags": []
   },
   "outputs": [
    {
     "name": "stderr",
     "output_type": "stream",
     "text": [
      "Some layers from the model checkpoint at ../input/huggingface-bert-variants/bert-base-cased/bert-base-cased were not used when initializing TFBertModel: ['nsp___cls', 'mlm___cls']\n",
      "- This IS expected if you are initializing TFBertModel from the checkpoint of a model trained on another task or with another architecture (e.g. initializing a BertForSequenceClassification model from a BertForPreTraining model).\n",
      "- This IS NOT expected if you are initializing TFBertModel from the checkpoint of a model that you expect to be exactly identical (initializing a BertForSequenceClassification model from a BertForSequenceClassification model).\n",
      "All the layers of TFBertModel were initialized from the model checkpoint at ../input/huggingface-bert-variants/bert-base-cased/bert-base-cased.\n",
      "If your task is similar to the task the model of the checkpoint was trained on, you can already use TFBertModel for predictions without further training.\n"
     ]
    }
   ],
   "source": [
    "train['inputs'] = train.discourse_type + tokenizer.sep_token +train.discourse_text\n",
    "test['inputs'] = test.discourse_type + tokenizer.sep_token +test.discourse_text\n",
    "def build_model(fold, bert_model, max_len=256):  \n",
    "    callbacks = tf.keras.callbacks.ModelCheckpoint(f'./model{fold}_weights.h5',\n",
    "                                                   save_weights_only=True, save_best_only=True)\n",
    "    input_ids = tf.keras.layers.Input(shape=(max_len,), dtype=tf.int32, name=\"input_ids\")\n",
    "    token_type_ids = tf.keras.layers.Input(shape=(max_len,), dtype=tf.int32, name=\"token_type_ids\")\n",
    "    attention_mask = tf.keras.layers.Input(shape=(max_len,), dtype=tf.int32, name=\"attention_mask\")\n",
    "\n",
    "    sequence_output = bert_model(input_ids, token_type_ids=token_type_ids, attention_mask=attention_mask)[0]\n",
    "    clf_output = sequence_output[:, 0, :]\n",
    "    clf_output = tf.keras.layers.Dropout(.1)(clf_output)\n",
    "    out = tf.keras.layers.Dense(3, activation='softmax')(clf_output)\n",
    "    \n",
    "    model = tf.keras.models.Model(inputs=[input_ids, token_type_ids, attention_mask], outputs=out)\n",
    "    model.compile(tf.keras.optimizers.Adam(lr=1e-5), loss='sparse_categorical_crossentropy', metrics=['accuracy'])\n",
    "    \n",
    "    return model, callbacks\n",
    "\n",
    "bert_model = (transformers.TFBertModel.from_pretrained('../input/huggingface-bert-variants/bert-base-cased/bert-base-cased'))"
   ]
  },
  {
   "cell_type": "code",
   "execution_count": 6,
   "id": "6b4a7310",
   "metadata": {
    "execution": {
     "iopub.execute_input": "2022-08-15T09:06:34.658553Z",
     "iopub.status.busy": "2022-08-15T09:06:34.658253Z",
     "iopub.status.idle": "2022-08-15T09:06:34.665531Z",
     "shell.execute_reply": "2022-08-15T09:06:34.664577Z"
    },
    "papermill": {
     "duration": 0.019067,
     "end_time": "2022-08-15T09:06:34.667613",
     "exception": false,
     "start_time": "2022-08-15T09:06:34.648546",
     "status": "completed"
    },
    "tags": []
   },
   "outputs": [],
   "source": [
    "def test_tokenizer_encode(texts, tokenizer):\n",
    "    \n",
    "    input_ids = np.zeros((test.shape[0], 256))\n",
    "    token_type_ids = np.zeros((test.shape[0], 256))\n",
    "    attention_mask_ids = np.zeros((test.shape[0], 256))\n",
    "    \n",
    "    for e,text in enumerate(texts):\n",
    "        tokenized_text = tokenizer.encode_plus(text, add_special_tokens=True,\n",
    "                              padding='max_length',max_length=256,truncation= True)\n",
    "        input_ids[e,:] = tokenized_text['input_ids']\n",
    "        token_type_ids[e,:] = tokenized_text['token_type_ids']\n",
    "        attention_mask_ids[e,:] = tokenized_text['attention_mask']\n",
    "\n",
    "    return input_ids, token_type_ids, attention_mask_ids"
   ]
  },
  {
   "cell_type": "code",
   "execution_count": 7,
   "id": "d487aa0b",
   "metadata": {
    "execution": {
     "iopub.execute_input": "2022-08-15T09:06:34.685779Z",
     "iopub.status.busy": "2022-08-15T09:06:34.685499Z",
     "iopub.status.idle": "2022-08-15T09:06:34.702863Z",
     "shell.execute_reply": "2022-08-15T09:06:34.702039Z"
    },
    "papermill": {
     "duration": 0.029048,
     "end_time": "2022-08-15T09:06:34.705070",
     "exception": false,
     "start_time": "2022-08-15T09:06:34.676022",
     "status": "completed"
    },
    "tags": []
   },
   "outputs": [],
   "source": [
    "X_test = test_tokenizer_encode(test['inputs'].astype(str), tokenizer)"
   ]
  },
  {
   "cell_type": "code",
   "execution_count": 8,
   "id": "da575db5",
   "metadata": {
    "execution": {
     "iopub.execute_input": "2022-08-15T09:06:34.723470Z",
     "iopub.status.busy": "2022-08-15T09:06:34.722564Z",
     "iopub.status.idle": "2022-08-15T09:06:34.727141Z",
     "shell.execute_reply": "2022-08-15T09:06:34.726223Z"
    },
    "papermill": {
     "duration": 0.015988,
     "end_time": "2022-08-15T09:06:34.729315",
     "exception": false,
     "start_time": "2022-08-15T09:06:34.713327",
     "status": "completed"
    },
    "tags": []
   },
   "outputs": [],
   "source": [
    "AUTO = tf.data.experimental.AUTOTUNE"
   ]
  },
  {
   "cell_type": "code",
   "execution_count": 9,
   "id": "fe9e0005",
   "metadata": {
    "execution": {
     "iopub.execute_input": "2022-08-15T09:06:34.747727Z",
     "iopub.status.busy": "2022-08-15T09:06:34.747426Z",
     "iopub.status.idle": "2022-08-15T09:07:26.730329Z",
     "shell.execute_reply": "2022-08-15T09:07:26.729140Z"
    },
    "papermill": {
     "duration": 51.995436,
     "end_time": "2022-08-15T09:07:26.732996",
     "exception": false,
     "start_time": "2022-08-15T09:06:34.737560",
     "status": "completed"
    },
    "tags": []
   },
   "outputs": [
    {
     "name": "stderr",
     "output_type": "stream",
     "text": [
      "/opt/conda/lib/python3.7/site-packages/keras/optimizer_v2/optimizer_v2.py:356: UserWarning: The `lr` argument is deprecated, use `learning_rate` instead.\n",
      "  \"The `lr` argument is deprecated, use `learning_rate` instead.\")\n",
      "2022-08-15 09:06:46.333422: I tensorflow/compiler/mlir/mlir_graph_optimization_pass.cc:185] None of the MLIR Optimization Passes are enabled (registered 2)\n"
     ]
    }
   ],
   "source": [
    "prediction_list = []\n",
    "for fold in range(5):\n",
    "    X_test_dataset = (X_test[0][:,:], X_test[1][:,:],\n",
    "              X_test[2][:,:])\n",
    "    test_dataset = (\n",
    "        tf.data.Dataset\n",
    "        .from_tensor_slices((X_test_dataset))\n",
    "        .batch(16)\n",
    "        .cache()\n",
    "        .prefetch(AUTO)\n",
    "    )\n",
    "    model, callback_option = build_model(fold, bert_model, 256)\n",
    "    model.load_weights(f\"../input/bertcasedfeedback/model{fold}_weights.h5\")\n",
    "    prediction = model.predict([X_test[0],X_test[1],X_test[2]])\n",
    "    prediction_list.append(prediction)"
   ]
  },
  {
   "cell_type": "code",
   "execution_count": 10,
   "id": "d5b9a0fa",
   "metadata": {
    "execution": {
     "iopub.execute_input": "2022-08-15T09:07:26.752531Z",
     "iopub.status.busy": "2022-08-15T09:07:26.751987Z",
     "iopub.status.idle": "2022-08-15T09:07:26.766244Z",
     "shell.execute_reply": "2022-08-15T09:07:26.765318Z"
    },
    "papermill": {
     "duration": 0.025804,
     "end_time": "2022-08-15T09:07:26.768215",
     "exception": false,
     "start_time": "2022-08-15T09:07:26.742411",
     "status": "completed"
    },
    "tags": []
   },
   "outputs": [],
   "source": [
    "predictions = prediction_list[0]+prediction_list[1]+ \\\n",
    "              prediction_list[2]+prediction_list[3]+ \\\n",
    "              prediction_list[4]\n",
    "predictions = (predictions / 5)\n",
    "test['Adequate'] = predictions[:,0]\n",
    "test['Effective'] = predictions[:,1]\n",
    "test['Ineffective'] = predictions[:,2]\n",
    "\n",
    "submission_first = test[submission.columns]"
   ]
  },
  {
   "cell_type": "code",
   "execution_count": 11,
   "id": "365b6805",
   "metadata": {
    "execution": {
     "iopub.execute_input": "2022-08-15T09:07:26.786277Z",
     "iopub.status.busy": "2022-08-15T09:07:26.786005Z",
     "iopub.status.idle": "2022-08-15T09:07:26.802517Z",
     "shell.execute_reply": "2022-08-15T09:07:26.801445Z"
    },
    "papermill": {
     "duration": 0.028487,
     "end_time": "2022-08-15T09:07:26.805291",
     "exception": false,
     "start_time": "2022-08-15T09:07:26.776804",
     "status": "completed"
    },
    "tags": []
   },
   "outputs": [
    {
     "data": {
      "text/html": [
       "<div>\n",
       "<style scoped>\n",
       "    .dataframe tbody tr th:only-of-type {\n",
       "        vertical-align: middle;\n",
       "    }\n",
       "\n",
       "    .dataframe tbody tr th {\n",
       "        vertical-align: top;\n",
       "    }\n",
       "\n",
       "    .dataframe thead th {\n",
       "        text-align: right;\n",
       "    }\n",
       "</style>\n",
       "<table border=\"1\" class=\"dataframe\">\n",
       "  <thead>\n",
       "    <tr style=\"text-align: right;\">\n",
       "      <th></th>\n",
       "      <th>discourse_id</th>\n",
       "      <th>Ineffective</th>\n",
       "      <th>Adequate</th>\n",
       "      <th>Effective</th>\n",
       "    </tr>\n",
       "  </thead>\n",
       "  <tbody>\n",
       "    <tr>\n",
       "      <th>0</th>\n",
       "      <td>a261b6e14276</td>\n",
       "      <td>0.023028</td>\n",
       "      <td>0.363148</td>\n",
       "      <td>0.613824</td>\n",
       "    </tr>\n",
       "    <tr>\n",
       "      <th>1</th>\n",
       "      <td>5a88900e7dc1</td>\n",
       "      <td>0.033201</td>\n",
       "      <td>0.731789</td>\n",
       "      <td>0.235011</td>\n",
       "    </tr>\n",
       "    <tr>\n",
       "      <th>2</th>\n",
       "      <td>9790d835736b</td>\n",
       "      <td>0.013549</td>\n",
       "      <td>0.673786</td>\n",
       "      <td>0.312665</td>\n",
       "    </tr>\n",
       "    <tr>\n",
       "      <th>3</th>\n",
       "      <td>75ce6d68b67b</td>\n",
       "      <td>0.023127</td>\n",
       "      <td>0.480059</td>\n",
       "      <td>0.496814</td>\n",
       "    </tr>\n",
       "    <tr>\n",
       "      <th>4</th>\n",
       "      <td>93578d946723</td>\n",
       "      <td>0.024849</td>\n",
       "      <td>0.796667</td>\n",
       "      <td>0.178485</td>\n",
       "    </tr>\n",
       "    <tr>\n",
       "      <th>5</th>\n",
       "      <td>2e214524dbe3</td>\n",
       "      <td>0.020794</td>\n",
       "      <td>0.267092</td>\n",
       "      <td>0.712114</td>\n",
       "    </tr>\n",
       "    <tr>\n",
       "      <th>6</th>\n",
       "      <td>84812fc2ab9f</td>\n",
       "      <td>0.011068</td>\n",
       "      <td>0.132132</td>\n",
       "      <td>0.856801</td>\n",
       "    </tr>\n",
       "    <tr>\n",
       "      <th>7</th>\n",
       "      <td>c668ff840720</td>\n",
       "      <td>0.016864</td>\n",
       "      <td>0.579370</td>\n",
       "      <td>0.403767</td>\n",
       "    </tr>\n",
       "    <tr>\n",
       "      <th>8</th>\n",
       "      <td>739a6d00f44a</td>\n",
       "      <td>0.096340</td>\n",
       "      <td>0.625865</td>\n",
       "      <td>0.277795</td>\n",
       "    </tr>\n",
       "    <tr>\n",
       "      <th>9</th>\n",
       "      <td>bcfae2c9a244</td>\n",
       "      <td>0.009863</td>\n",
       "      <td>0.423207</td>\n",
       "      <td>0.566929</td>\n",
       "    </tr>\n",
       "  </tbody>\n",
       "</table>\n",
       "</div>"
      ],
      "text/plain": [
       "   discourse_id  Ineffective  Adequate  Effective\n",
       "0  a261b6e14276     0.023028  0.363148   0.613824\n",
       "1  5a88900e7dc1     0.033201  0.731789   0.235011\n",
       "2  9790d835736b     0.013549  0.673786   0.312665\n",
       "3  75ce6d68b67b     0.023127  0.480059   0.496814\n",
       "4  93578d946723     0.024849  0.796667   0.178485\n",
       "5  2e214524dbe3     0.020794  0.267092   0.712114\n",
       "6  84812fc2ab9f     0.011068  0.132132   0.856801\n",
       "7  c668ff840720     0.016864  0.579370   0.403767\n",
       "8  739a6d00f44a     0.096340  0.625865   0.277795\n",
       "9  bcfae2c9a244     0.009863  0.423207   0.566929"
      ]
     },
     "execution_count": 11,
     "metadata": {},
     "output_type": "execute_result"
    }
   ],
   "source": [
    "submission_first"
   ]
  },
  {
   "cell_type": "markdown",
   "id": "23d5d598",
   "metadata": {
    "papermill": {
     "duration": 0.008494,
     "end_time": "2022-08-15T09:07:26.822458",
     "exception": false,
     "start_time": "2022-08-15T09:07:26.813964",
     "status": "completed"
    },
    "tags": []
   },
   "source": [
    "# BERT WO ESSAY AUGMENTED"
   ]
  },
  {
   "cell_type": "code",
   "execution_count": 12,
   "id": "b7b94808",
   "metadata": {
    "execution": {
     "iopub.execute_input": "2022-08-15T09:07:26.841140Z",
     "iopub.status.busy": "2022-08-15T09:07:26.840810Z",
     "iopub.status.idle": "2022-08-15T09:07:26.979218Z",
     "shell.execute_reply": "2022-08-15T09:07:26.978242Z"
    },
    "papermill": {
     "duration": 0.150397,
     "end_time": "2022-08-15T09:07:26.981559",
     "exception": false,
     "start_time": "2022-08-15T09:07:26.831162",
     "status": "completed"
    },
    "tags": []
   },
   "outputs": [],
   "source": [
    "TEST_DIR = \"../input/feedback-prize-effectiveness\"\n",
    "TRAIN_FOLDS_DIR = '../input/feedbacktrainfolds'\n",
    "train = pd.read_csv(f\"{TRAIN_FOLDS_DIR}/train_folds.csv\")\n",
    "test = pd.read_csv(f\"{TEST_DIR}/test.csv\")\n",
    "submission = pd.read_csv(f\"{TEST_DIR}/sample_submission.csv\")"
   ]
  },
  {
   "cell_type": "code",
   "execution_count": 13,
   "id": "bff2edad",
   "metadata": {
    "execution": {
     "iopub.execute_input": "2022-08-15T09:07:27.002034Z",
     "iopub.status.busy": "2022-08-15T09:07:27.001165Z",
     "iopub.status.idle": "2022-08-15T09:07:27.040566Z",
     "shell.execute_reply": "2022-08-15T09:07:27.039670Z"
    },
    "papermill": {
     "duration": 0.052207,
     "end_time": "2022-08-15T09:07:27.043162",
     "exception": false,
     "start_time": "2022-08-15T09:07:26.990955",
     "status": "completed"
    },
    "tags": []
   },
   "outputs": [],
   "source": [
    "tokenizer = BertTokenizer.from_pretrained(\"../input/huggingface-bert-variants/bert-base-cased/bert-base-cased\")"
   ]
  },
  {
   "cell_type": "code",
   "execution_count": 14,
   "id": "7b30d566",
   "metadata": {
    "execution": {
     "iopub.execute_input": "2022-08-15T09:07:27.062846Z",
     "iopub.status.busy": "2022-08-15T09:07:27.062546Z",
     "iopub.status.idle": "2022-08-15T09:07:32.416275Z",
     "shell.execute_reply": "2022-08-15T09:07:32.414184Z"
    },
    "papermill": {
     "duration": 5.367426,
     "end_time": "2022-08-15T09:07:32.420004",
     "exception": false,
     "start_time": "2022-08-15T09:07:27.052578",
     "status": "completed"
    },
    "tags": []
   },
   "outputs": [
    {
     "name": "stderr",
     "output_type": "stream",
     "text": [
      "Some layers from the model checkpoint at ../input/huggingface-bert-variants/bert-base-cased/bert-base-cased were not used when initializing TFBertModel: ['nsp___cls', 'mlm___cls']\n",
      "- This IS expected if you are initializing TFBertModel from the checkpoint of a model trained on another task or with another architecture (e.g. initializing a BertForSequenceClassification model from a BertForPreTraining model).\n",
      "- This IS NOT expected if you are initializing TFBertModel from the checkpoint of a model that you expect to be exactly identical (initializing a BertForSequenceClassification model from a BertForSequenceClassification model).\n",
      "All the layers of TFBertModel were initialized from the model checkpoint at ../input/huggingface-bert-variants/bert-base-cased/bert-base-cased.\n",
      "If your task is similar to the task the model of the checkpoint was trained on, you can already use TFBertModel for predictions without further training.\n"
     ]
    }
   ],
   "source": [
    "train['inputs'] = train.discourse_type + tokenizer.sep_token +train.discourse_text\n",
    "test['inputs'] = test.discourse_type + tokenizer.sep_token +test.discourse_text\n",
    "def build_model(fold, bert_model, max_len=256):  \n",
    "    callbacks = tf.keras.callbacks.ModelCheckpoint(f'./model{fold}_weights.h5',\n",
    "                                                   save_weights_only=True, save_best_only=True)\n",
    "    input_ids = tf.keras.layers.Input(shape=(max_len,), dtype=tf.int32, name=\"input_ids\")\n",
    "    token_type_ids = tf.keras.layers.Input(shape=(max_len,), dtype=tf.int32, name=\"token_type_ids\")\n",
    "    attention_mask = tf.keras.layers.Input(shape=(max_len,), dtype=tf.int32, name=\"attention_mask\")\n",
    "\n",
    "    sequence_output = bert_model(input_ids, token_type_ids=token_type_ids, attention_mask=attention_mask)[0]\n",
    "    clf_output = sequence_output[:, 0, :]\n",
    "    clf_output = tf.keras.layers.Dropout(.1)(clf_output)\n",
    "    out = tf.keras.layers.Dense(3, activation='softmax')(clf_output)\n",
    "    \n",
    "    model = tf.keras.models.Model(inputs=[input_ids, token_type_ids, attention_mask], outputs=out)\n",
    "    model.compile(tf.keras.optimizers.Adam(lr=1e-5), loss='sparse_categorical_crossentropy', metrics=['accuracy'])\n",
    "    \n",
    "    return model, callbacks\n",
    "\n",
    "bert_model = (transformers.TFBertModel.from_pretrained('../input/huggingface-bert-variants/bert-base-cased/bert-base-cased'))"
   ]
  },
  {
   "cell_type": "code",
   "execution_count": 15,
   "id": "513d94bc",
   "metadata": {
    "execution": {
     "iopub.execute_input": "2022-08-15T09:07:32.451760Z",
     "iopub.status.busy": "2022-08-15T09:07:32.451483Z",
     "iopub.status.idle": "2022-08-15T09:07:32.459963Z",
     "shell.execute_reply": "2022-08-15T09:07:32.458400Z"
    },
    "papermill": {
     "duration": 0.027116,
     "end_time": "2022-08-15T09:07:32.462650",
     "exception": false,
     "start_time": "2022-08-15T09:07:32.435534",
     "status": "completed"
    },
    "tags": []
   },
   "outputs": [],
   "source": [
    "def test_tokenizer_encode(texts, tokenizer):\n",
    "    \n",
    "    input_ids = np.zeros((test.shape[0], 256))\n",
    "    token_type_ids = np.zeros((test.shape[0], 256))\n",
    "    attention_mask_ids = np.zeros((test.shape[0], 256))\n",
    "    \n",
    "    for e,text in enumerate(texts):\n",
    "        tokenized_text = tokenizer.encode_plus(text, add_special_tokens=True,\n",
    "                              padding='max_length',max_length=256,truncation= True)\n",
    "        input_ids[e,:] = tokenized_text['input_ids']\n",
    "        token_type_ids[e,:] = tokenized_text['token_type_ids']\n",
    "        attention_mask_ids[e,:] = tokenized_text['attention_mask']\n",
    "\n",
    "    return input_ids, token_type_ids, attention_mask_ids"
   ]
  },
  {
   "cell_type": "code",
   "execution_count": 16,
   "id": "bca8df30",
   "metadata": {
    "execution": {
     "iopub.execute_input": "2022-08-15T09:07:32.491027Z",
     "iopub.status.busy": "2022-08-15T09:07:32.490610Z",
     "iopub.status.idle": "2022-08-15T09:07:32.514943Z",
     "shell.execute_reply": "2022-08-15T09:07:32.514139Z"
    },
    "papermill": {
     "duration": 0.040829,
     "end_time": "2022-08-15T09:07:32.517552",
     "exception": false,
     "start_time": "2022-08-15T09:07:32.476723",
     "status": "completed"
    },
    "tags": []
   },
   "outputs": [],
   "source": [
    "X_test = test_tokenizer_encode(test['inputs'].astype(str), tokenizer)"
   ]
  },
  {
   "cell_type": "code",
   "execution_count": 17,
   "id": "587cd739",
   "metadata": {
    "execution": {
     "iopub.execute_input": "2022-08-15T09:07:32.545229Z",
     "iopub.status.busy": "2022-08-15T09:07:32.544837Z",
     "iopub.status.idle": "2022-08-15T09:07:32.549866Z",
     "shell.execute_reply": "2022-08-15T09:07:32.548750Z"
    },
    "papermill": {
     "duration": 0.02201,
     "end_time": "2022-08-15T09:07:32.552865",
     "exception": false,
     "start_time": "2022-08-15T09:07:32.530855",
     "status": "completed"
    },
    "tags": []
   },
   "outputs": [],
   "source": [
    "AUTO = tf.data.experimental.AUTOTUNE"
   ]
  },
  {
   "cell_type": "code",
   "execution_count": 18,
   "id": "6a6fae9f",
   "metadata": {
    "execution": {
     "iopub.execute_input": "2022-08-15T09:07:32.581050Z",
     "iopub.status.busy": "2022-08-15T09:07:32.580775Z",
     "iopub.status.idle": "2022-08-15T09:08:13.581134Z",
     "shell.execute_reply": "2022-08-15T09:08:13.580114Z"
    },
    "papermill": {
     "duration": 41.016646,
     "end_time": "2022-08-15T09:08:13.583609",
     "exception": false,
     "start_time": "2022-08-15T09:07:32.566963",
     "status": "completed"
    },
    "tags": []
   },
   "outputs": [
    {
     "name": "stderr",
     "output_type": "stream",
     "text": [
      "/opt/conda/lib/python3.7/site-packages/keras/optimizer_v2/optimizer_v2.py:356: UserWarning: The `lr` argument is deprecated, use `learning_rate` instead.\n",
      "  \"The `lr` argument is deprecated, use `learning_rate` instead.\")\n"
     ]
    }
   ],
   "source": [
    "prediction_list = []\n",
    "for fold in range(5):\n",
    "    X_test_dataset = (X_test[0][:,:], X_test[1][:,:],\n",
    "              X_test[2][:,:])\n",
    "    test_dataset = (\n",
    "        tf.data.Dataset\n",
    "        .from_tensor_slices((X_test_dataset))\n",
    "        .batch(16)\n",
    "        .cache()\n",
    "        .prefetch(AUTO)\n",
    "    )\n",
    "    model, callback_option = build_model(fold, bert_model, 256)\n",
    "    model.load_weights(f\"../input/augmented-bert-woessay/model{fold}_weights.h5\")\n",
    "    prediction = model.predict([X_test[0],X_test[1],X_test[2]])\n",
    "    prediction_list.append(prediction)"
   ]
  },
  {
   "cell_type": "code",
   "execution_count": 19,
   "id": "75480c61",
   "metadata": {
    "execution": {
     "iopub.execute_input": "2022-08-15T09:08:13.604086Z",
     "iopub.status.busy": "2022-08-15T09:08:13.603515Z",
     "iopub.status.idle": "2022-08-15T09:08:13.613396Z",
     "shell.execute_reply": "2022-08-15T09:08:13.612557Z"
    },
    "papermill": {
     "duration": 0.022229,
     "end_time": "2022-08-15T09:08:13.615623",
     "exception": false,
     "start_time": "2022-08-15T09:08:13.593394",
     "status": "completed"
    },
    "tags": []
   },
   "outputs": [],
   "source": [
    "predictions = prediction_list[0]+prediction_list[1]+ \\\n",
    "              prediction_list[2]+prediction_list[3]+ \\\n",
    "              prediction_list[4]\n",
    "predictions = (predictions / 5)\n",
    "test['Adequate'] = predictions[:,0]\n",
    "test['Effective'] = predictions[:,1]\n",
    "test['Ineffective'] = predictions[:,2]\n",
    "\n",
    "submission_third = test[submission.columns]"
   ]
  },
  {
   "cell_type": "code",
   "execution_count": 20,
   "id": "974d1005",
   "metadata": {
    "execution": {
     "iopub.execute_input": "2022-08-15T09:08:13.635308Z",
     "iopub.status.busy": "2022-08-15T09:08:13.634738Z",
     "iopub.status.idle": "2022-08-15T09:08:13.646999Z",
     "shell.execute_reply": "2022-08-15T09:08:13.646107Z"
    },
    "papermill": {
     "duration": 0.024602,
     "end_time": "2022-08-15T09:08:13.649194",
     "exception": false,
     "start_time": "2022-08-15T09:08:13.624592",
     "status": "completed"
    },
    "tags": []
   },
   "outputs": [
    {
     "data": {
      "text/html": [
       "<div>\n",
       "<style scoped>\n",
       "    .dataframe tbody tr th:only-of-type {\n",
       "        vertical-align: middle;\n",
       "    }\n",
       "\n",
       "    .dataframe tbody tr th {\n",
       "        vertical-align: top;\n",
       "    }\n",
       "\n",
       "    .dataframe thead th {\n",
       "        text-align: right;\n",
       "    }\n",
       "</style>\n",
       "<table border=\"1\" class=\"dataframe\">\n",
       "  <thead>\n",
       "    <tr style=\"text-align: right;\">\n",
       "      <th></th>\n",
       "      <th>discourse_id</th>\n",
       "      <th>Ineffective</th>\n",
       "      <th>Adequate</th>\n",
       "      <th>Effective</th>\n",
       "    </tr>\n",
       "  </thead>\n",
       "  <tbody>\n",
       "    <tr>\n",
       "      <th>0</th>\n",
       "      <td>a261b6e14276</td>\n",
       "      <td>0.027848</td>\n",
       "      <td>0.483920</td>\n",
       "      <td>0.488232</td>\n",
       "    </tr>\n",
       "    <tr>\n",
       "      <th>1</th>\n",
       "      <td>5a88900e7dc1</td>\n",
       "      <td>0.053030</td>\n",
       "      <td>0.635413</td>\n",
       "      <td>0.311557</td>\n",
       "    </tr>\n",
       "    <tr>\n",
       "      <th>2</th>\n",
       "      <td>9790d835736b</td>\n",
       "      <td>0.036607</td>\n",
       "      <td>0.541733</td>\n",
       "      <td>0.421660</td>\n",
       "    </tr>\n",
       "    <tr>\n",
       "      <th>3</th>\n",
       "      <td>75ce6d68b67b</td>\n",
       "      <td>0.073832</td>\n",
       "      <td>0.389516</td>\n",
       "      <td>0.536652</td>\n",
       "    </tr>\n",
       "    <tr>\n",
       "      <th>4</th>\n",
       "      <td>93578d946723</td>\n",
       "      <td>0.029687</td>\n",
       "      <td>0.505888</td>\n",
       "      <td>0.464424</td>\n",
       "    </tr>\n",
       "    <tr>\n",
       "      <th>5</th>\n",
       "      <td>2e214524dbe3</td>\n",
       "      <td>0.018476</td>\n",
       "      <td>0.332572</td>\n",
       "      <td>0.648951</td>\n",
       "    </tr>\n",
       "    <tr>\n",
       "      <th>6</th>\n",
       "      <td>84812fc2ab9f</td>\n",
       "      <td>0.017008</td>\n",
       "      <td>0.281306</td>\n",
       "      <td>0.701685</td>\n",
       "    </tr>\n",
       "    <tr>\n",
       "      <th>7</th>\n",
       "      <td>c668ff840720</td>\n",
       "      <td>0.022768</td>\n",
       "      <td>0.414298</td>\n",
       "      <td>0.562935</td>\n",
       "    </tr>\n",
       "    <tr>\n",
       "      <th>8</th>\n",
       "      <td>739a6d00f44a</td>\n",
       "      <td>0.050354</td>\n",
       "      <td>0.495189</td>\n",
       "      <td>0.454457</td>\n",
       "    </tr>\n",
       "    <tr>\n",
       "      <th>9</th>\n",
       "      <td>bcfae2c9a244</td>\n",
       "      <td>0.013215</td>\n",
       "      <td>0.486243</td>\n",
       "      <td>0.500543</td>\n",
       "    </tr>\n",
       "  </tbody>\n",
       "</table>\n",
       "</div>"
      ],
      "text/plain": [
       "   discourse_id  Ineffective  Adequate  Effective\n",
       "0  a261b6e14276     0.027848  0.483920   0.488232\n",
       "1  5a88900e7dc1     0.053030  0.635413   0.311557\n",
       "2  9790d835736b     0.036607  0.541733   0.421660\n",
       "3  75ce6d68b67b     0.073832  0.389516   0.536652\n",
       "4  93578d946723     0.029687  0.505888   0.464424\n",
       "5  2e214524dbe3     0.018476  0.332572   0.648951\n",
       "6  84812fc2ab9f     0.017008  0.281306   0.701685\n",
       "7  c668ff840720     0.022768  0.414298   0.562935\n",
       "8  739a6d00f44a     0.050354  0.495189   0.454457\n",
       "9  bcfae2c9a244     0.013215  0.486243   0.500543"
      ]
     },
     "execution_count": 20,
     "metadata": {},
     "output_type": "execute_result"
    }
   ],
   "source": [
    "submission_third"
   ]
  },
  {
   "cell_type": "markdown",
   "id": "6a1f048c",
   "metadata": {
    "execution": {
     "iopub.execute_input": "2022-08-10T09:42:46.353185Z",
     "iopub.status.busy": "2022-08-10T09:42:46.352771Z",
     "iopub.status.idle": "2022-08-10T09:42:46.362515Z",
     "shell.execute_reply": "2022-08-10T09:42:46.361242Z",
     "shell.execute_reply.started": "2022-08-10T09:42:46.353154Z"
    },
    "papermill": {
     "duration": 0.009377,
     "end_time": "2022-08-15T09:08:13.667550",
     "exception": false,
     "start_time": "2022-08-15T09:08:13.658173",
     "status": "completed"
    },
    "tags": []
   },
   "source": [
    "# ROBERTA ESSAY"
   ]
  },
  {
   "cell_type": "code",
   "execution_count": 21,
   "id": "f984cc44",
   "metadata": {
    "execution": {
     "iopub.execute_input": "2022-08-15T09:08:13.687396Z",
     "iopub.status.busy": "2022-08-15T09:08:13.687090Z",
     "iopub.status.idle": "2022-08-15T09:08:13.824287Z",
     "shell.execute_reply": "2022-08-15T09:08:13.823240Z"
    },
    "papermill": {
     "duration": 0.150181,
     "end_time": "2022-08-15T09:08:13.826872",
     "exception": false,
     "start_time": "2022-08-15T09:08:13.676691",
     "status": "completed"
    },
    "tags": []
   },
   "outputs": [],
   "source": [
    "TEST_DIR = \"../input/feedback-prize-effectiveness\"\n",
    "TRAIN_FOLDS_DIR = '../input/feedbacktrainfolds'\n",
    "train = pd.read_csv(f\"{TRAIN_FOLDS_DIR}/train_folds.csv\")\n",
    "test = pd.read_csv(f\"{TEST_DIR}/test.csv\")\n",
    "submission = pd.read_csv(f\"{TEST_DIR}/sample_submission.csv\")"
   ]
  },
  {
   "cell_type": "code",
   "execution_count": 22,
   "id": "6716db90",
   "metadata": {
    "execution": {
     "iopub.execute_input": "2022-08-15T09:08:13.847539Z",
     "iopub.status.busy": "2022-08-15T09:08:13.846979Z",
     "iopub.status.idle": "2022-08-15T09:08:40.068317Z",
     "shell.execute_reply": "2022-08-15T09:08:40.067351Z"
    },
    "papermill": {
     "duration": 26.234105,
     "end_time": "2022-08-15T09:08:40.070751",
     "exception": false,
     "start_time": "2022-08-15T09:08:13.836646",
     "status": "completed"
    },
    "tags": []
   },
   "outputs": [],
   "source": [
    "def get_essay_text(essay_id, directory):\n",
    "    parent_path = TEST_DIR + \"/\" + directory\n",
    "    essay_path = os.path.join(parent_path, f\"{essay_id}.txt\")\n",
    "    essay_text = open(essay_path, 'r').read()\n",
    "    return essay_text\n",
    "train['essay_text'] = train['essay_id'].apply(get_essay_text, directory='train')\n",
    "test['essay_text'] = test['essay_id'].apply(get_essay_text, directory='test')"
   ]
  },
  {
   "cell_type": "code",
   "execution_count": 23,
   "id": "93e58407",
   "metadata": {
    "execution": {
     "iopub.execute_input": "2022-08-15T09:08:40.091358Z",
     "iopub.status.busy": "2022-08-15T09:08:40.090399Z",
     "iopub.status.idle": "2022-08-15T09:09:03.863670Z",
     "shell.execute_reply": "2022-08-15T09:09:03.862598Z"
    },
    "papermill": {
     "duration": 23.785534,
     "end_time": "2022-08-15T09:09:03.866042",
     "exception": false,
     "start_time": "2022-08-15T09:08:40.080508",
     "status": "completed"
    },
    "tags": []
   },
   "outputs": [],
   "source": [
    "from text_unidecode import unidecode\n",
    "from typing import Dict, List, Tuple\n",
    "import codecs\n",
    "def replace_encoding_with_utf8(error: UnicodeError) -> Tuple[bytes, int]:\n",
    "    return error.object[error.start : error.end].encode(\"utf-8\"), error.end\n",
    "\n",
    "\n",
    "def replace_decoding_with_cp1252(error: UnicodeError) -> Tuple[str, int]:\n",
    "    return error.object[error.start : error.end].decode(\"cp1252\"), error.end\n",
    "\n",
    "# Register the encoding and decoding error handlers for `utf-8` and `cp1252`.\n",
    "codecs.register_error(\"replace_encoding_with_utf8\", replace_encoding_with_utf8)\n",
    "codecs.register_error(\"replace_decoding_with_cp1252\", replace_decoding_with_cp1252)\n",
    "\n",
    "def resolve_encodings_and_normalize(text: str) -> str:\n",
    "    \"\"\"Resolve the encoding problems and normalize the abnormal characters.\"\"\"\n",
    "    text = (\n",
    "        text.encode(\"raw_unicode_escape\")\n",
    "        .decode(\"utf-8\", errors=\"replace_decoding_with_cp1252\")\n",
    "        .encode(\"cp1252\", errors=\"replace_encoding_with_utf8\")\n",
    "        .decode(\"utf-8\", errors=\"replace_decoding_with_cp1252\")\n",
    "    )\n",
    "    text = unidecode(text)\n",
    "    return text\n",
    "\n",
    "train['discourse_text'] = train['discourse_text'].apply(resolve_encodings_and_normalize)\n",
    "train['essay_text'] = train['essay_text'].apply(resolve_encodings_and_normalize)\n",
    "\n",
    "test['discourse_text'] = test['discourse_text'].apply(resolve_encodings_and_normalize)\n",
    "test['essay_text'] = test['essay_text'].apply(resolve_encodings_and_normalize)"
   ]
  },
  {
   "cell_type": "code",
   "execution_count": 24,
   "id": "2fc477b6",
   "metadata": {
    "execution": {
     "iopub.execute_input": "2022-08-15T09:09:03.886017Z",
     "iopub.status.busy": "2022-08-15T09:09:03.885692Z",
     "iopub.status.idle": "2022-08-15T09:09:03.947342Z",
     "shell.execute_reply": "2022-08-15T09:09:03.946383Z"
    },
    "papermill": {
     "duration": 0.073779,
     "end_time": "2022-08-15T09:09:03.949534",
     "exception": false,
     "start_time": "2022-08-15T09:09:03.875755",
     "status": "completed"
    },
    "tags": []
   },
   "outputs": [],
   "source": [
    "train['text'] = train['discourse_type'] + \" [SEP] \" + train['discourse_text'] + \" [SEP] \" + train['essay_text']\n",
    "test['text'] = test['discourse_type'] + \" [SEP] \" + test['discourse_text'] + \" [SEP] \" + test['essay_text']"
   ]
  },
  {
   "cell_type": "code",
   "execution_count": 25,
   "id": "341913ff",
   "metadata": {
    "execution": {
     "iopub.execute_input": "2022-08-15T09:09:03.970461Z",
     "iopub.status.busy": "2022-08-15T09:09:03.970148Z",
     "iopub.status.idle": "2022-08-15T09:09:04.170521Z",
     "shell.execute_reply": "2022-08-15T09:09:04.169564Z"
    },
    "papermill": {
     "duration": 0.214107,
     "end_time": "2022-08-15T09:09:04.173202",
     "exception": false,
     "start_time": "2022-08-15T09:09:03.959095",
     "status": "completed"
    },
    "tags": []
   },
   "outputs": [],
   "source": [
    "tokenizer = AutoTokenizer.from_pretrained(\"../input/robertalarge\")"
   ]
  },
  {
   "cell_type": "code",
   "execution_count": 26,
   "id": "d266ecda",
   "metadata": {
    "execution": {
     "iopub.execute_input": "2022-08-15T09:09:04.193468Z",
     "iopub.status.busy": "2022-08-15T09:09:04.193173Z",
     "iopub.status.idle": "2022-08-15T09:09:04.201487Z",
     "shell.execute_reply": "2022-08-15T09:09:04.200649Z"
    },
    "papermill": {
     "duration": 0.020606,
     "end_time": "2022-08-15T09:09:04.203685",
     "exception": false,
     "start_time": "2022-08-15T09:09:04.183079",
     "status": "completed"
    },
    "tags": []
   },
   "outputs": [],
   "source": [
    "def create_model():\n",
    "    input_id = tf.keras.layers.Input(shape = (512) , dtype = tf.int32, name = 'input_ids')\n",
    "    attention_mask = tf.keras.layers.Input(shape = (512), dtype = tf.int32, name = 'attention_mask')\n",
    "    \n",
    "    transformer_model = transformers.TFAutoModel.from_pretrained('../input/robertalarge', from_pt=True)\n",
    "    cls_token = transformer_model(input_ids = input_id , attention_mask = attention_mask)[0][:,0,:]\n",
    "    \n",
    "    prediction = tf.keras.layers.Dense(3 , activation = \"softmax\")(cls_token)\n",
    "\n",
    "    return tf.keras.models.Model(inputs = [input_id, attention_mask] , outputs = prediction)\n",
    "import tensorflow.keras.backend as K\n",
    "df_test = test.copy()"
   ]
  },
  {
   "cell_type": "code",
   "execution_count": 27,
   "id": "4dba018b",
   "metadata": {
    "execution": {
     "iopub.execute_input": "2022-08-15T09:09:04.223105Z",
     "iopub.status.busy": "2022-08-15T09:09:04.222242Z",
     "iopub.status.idle": "2022-08-15T09:09:04.227596Z",
     "shell.execute_reply": "2022-08-15T09:09:04.226743Z"
    },
    "papermill": {
     "duration": 0.017236,
     "end_time": "2022-08-15T09:09:04.229756",
     "exception": false,
     "start_time": "2022-08-15T09:09:04.212520",
     "status": "completed"
    },
    "tags": []
   },
   "outputs": [],
   "source": [
    "@tf.function\n",
    "def test_map_function(encodings):\n",
    "    input_ids = encodings['input_ids']\n",
    "    attention_mask = encodings['attention_mask']\n",
    "    \n",
    "    \n",
    "    return {'input_ids': input_ids , 'attention_mask': attention_mask}"
   ]
  },
  {
   "cell_type": "code",
   "execution_count": 28,
   "id": "7d102eea",
   "metadata": {
    "execution": {
     "iopub.execute_input": "2022-08-15T09:09:04.250754Z",
     "iopub.status.busy": "2022-08-15T09:09:04.249207Z",
     "iopub.status.idle": "2022-08-15T09:09:04.254038Z",
     "shell.execute_reply": "2022-08-15T09:09:04.253202Z"
    },
    "papermill": {
     "duration": 0.016754,
     "end_time": "2022-08-15T09:09:04.255991",
     "exception": false,
     "start_time": "2022-08-15T09:09:04.239237",
     "status": "completed"
    },
    "tags": []
   },
   "outputs": [],
   "source": [
    "strategy = tf.distribute.get_strategy()"
   ]
  },
  {
   "cell_type": "code",
   "execution_count": 29,
   "id": "1239784a",
   "metadata": {
    "execution": {
     "iopub.execute_input": "2022-08-15T09:09:04.276653Z",
     "iopub.status.busy": "2022-08-15T09:09:04.275292Z",
     "iopub.status.idle": "2022-08-15T09:11:15.280627Z",
     "shell.execute_reply": "2022-08-15T09:11:15.279671Z"
    },
    "papermill": {
     "duration": 131.018131,
     "end_time": "2022-08-15T09:11:15.283142",
     "exception": false,
     "start_time": "2022-08-15T09:09:04.265011",
     "status": "completed"
    },
    "tags": []
   },
   "outputs": [
    {
     "name": "stdout",
     "output_type": "stream",
     "text": [
      "====== FOLD RUNNING 0======\n",
      " Test Generating Tokens\n",
      "Test Generating Dataset\n",
      "Backend Cleared\n",
      "Model Creation\n"
     ]
    },
    {
     "name": "stderr",
     "output_type": "stream",
     "text": [
      "Some weights of the PyTorch model were not used when initializing the TF 2.0 model TFRobertaModel: ['lm_head.bias', 'lm_head.decoder.weight', 'lm_head.layer_norm.bias', 'lm_head.dense.bias', 'lm_head.dense.weight', 'lm_head.layer_norm.weight']\n",
      "- This IS expected if you are initializing TFRobertaModel from a PyTorch model trained on another task or with another architecture (e.g. initializing a TFBertForSequenceClassification model from a BertForPreTraining model).\n",
      "- This IS NOT expected if you are initializing TFRobertaModel from a PyTorch model that you expect to be exactly identical (e.g. initializing a TFBertForSequenceClassification model from a BertForSequenceClassification model).\n",
      "All the weights of TFRobertaModel were initialized from the PyTorch model.\n",
      "If your task is similar to the task the model of the checkpoint was trained on, you can already use TFRobertaModel for predictions without further training.\n"
     ]
    },
    {
     "name": "stdout",
     "output_type": "stream",
     "text": [
      "prediction on test data\n",
      "1/1 [==============================] - 6s 6s/step\n",
      "====== FOLD RUNNING 1======\n",
      " Test Generating Tokens\n",
      "Test Generating Dataset\n",
      "Backend Cleared\n",
      "Model Creation\n"
     ]
    },
    {
     "name": "stderr",
     "output_type": "stream",
     "text": [
      "Some weights of the PyTorch model were not used when initializing the TF 2.0 model TFRobertaModel: ['lm_head.bias', 'lm_head.decoder.weight', 'lm_head.layer_norm.bias', 'lm_head.dense.bias', 'lm_head.dense.weight', 'lm_head.layer_norm.weight']\n",
      "- This IS expected if you are initializing TFRobertaModel from a PyTorch model trained on another task or with another architecture (e.g. initializing a TFBertForSequenceClassification model from a BertForPreTraining model).\n",
      "- This IS NOT expected if you are initializing TFRobertaModel from a PyTorch model that you expect to be exactly identical (e.g. initializing a TFBertForSequenceClassification model from a BertForSequenceClassification model).\n",
      "All the weights of TFRobertaModel were initialized from the PyTorch model.\n",
      "If your task is similar to the task the model of the checkpoint was trained on, you can already use TFRobertaModel for predictions without further training.\n"
     ]
    },
    {
     "name": "stdout",
     "output_type": "stream",
     "text": [
      "prediction on test data\n",
      "1/1 [==============================] - 6s 6s/step\n",
      "====== FOLD RUNNING 2======\n",
      " Test Generating Tokens\n",
      "Test Generating Dataset\n",
      "Backend Cleared\n",
      "Model Creation\n"
     ]
    },
    {
     "name": "stderr",
     "output_type": "stream",
     "text": [
      "Some weights of the PyTorch model were not used when initializing the TF 2.0 model TFRobertaModel: ['lm_head.bias', 'lm_head.decoder.weight', 'lm_head.layer_norm.bias', 'lm_head.dense.bias', 'lm_head.dense.weight', 'lm_head.layer_norm.weight']\n",
      "- This IS expected if you are initializing TFRobertaModel from a PyTorch model trained on another task or with another architecture (e.g. initializing a TFBertForSequenceClassification model from a BertForPreTraining model).\n",
      "- This IS NOT expected if you are initializing TFRobertaModel from a PyTorch model that you expect to be exactly identical (e.g. initializing a TFBertForSequenceClassification model from a BertForSequenceClassification model).\n",
      "All the weights of TFRobertaModel were initialized from the PyTorch model.\n",
      "If your task is similar to the task the model of the checkpoint was trained on, you can already use TFRobertaModel for predictions without further training.\n"
     ]
    },
    {
     "name": "stdout",
     "output_type": "stream",
     "text": [
      "prediction on test data\n",
      "1/1 [==============================] - 5s 5s/step\n",
      "====== FOLD RUNNING 3======\n",
      " Test Generating Tokens\n",
      "Test Generating Dataset\n",
      "Backend Cleared\n",
      "Model Creation\n"
     ]
    },
    {
     "name": "stderr",
     "output_type": "stream",
     "text": [
      "Some weights of the PyTorch model were not used when initializing the TF 2.0 model TFRobertaModel: ['lm_head.bias', 'lm_head.decoder.weight', 'lm_head.layer_norm.bias', 'lm_head.dense.bias', 'lm_head.dense.weight', 'lm_head.layer_norm.weight']\n",
      "- This IS expected if you are initializing TFRobertaModel from a PyTorch model trained on another task or with another architecture (e.g. initializing a TFBertForSequenceClassification model from a BertForPreTraining model).\n",
      "- This IS NOT expected if you are initializing TFRobertaModel from a PyTorch model that you expect to be exactly identical (e.g. initializing a TFBertForSequenceClassification model from a BertForSequenceClassification model).\n",
      "All the weights of TFRobertaModel were initialized from the PyTorch model.\n",
      "If your task is similar to the task the model of the checkpoint was trained on, you can already use TFRobertaModel for predictions without further training.\n"
     ]
    },
    {
     "name": "stdout",
     "output_type": "stream",
     "text": [
      "prediction on test data\n",
      "1/1 [==============================] - 6s 6s/step\n"
     ]
    }
   ],
   "source": [
    "histories = []\n",
    "scores = []\n",
    "preds_list = []\n",
    "for fold in range(4):\n",
    "    print(f\"====== FOLD RUNNING {fold}======\")\n",
    "    \n",
    "    X_test = df_test['text']\n",
    "    \n",
    "    print(\" Test Generating Tokens\")\n",
    "    test_embeddings = tokenizer(\n",
    "        X_test.tolist(),\n",
    "        truncation = True, \n",
    "        padding = 'max_length',\n",
    "        max_length =512  \n",
    "    )\n",
    "    \n",
    "    print(\"Test Generating Dataset\")\n",
    "    test = tf.data.Dataset.from_tensor_slices((test_embeddings))\n",
    "    test = (\n",
    "                test\n",
    "                .map(test_map_function, num_parallel_calls= AUTO)\n",
    "                .batch(24)\n",
    "                .prefetch(AUTO)\n",
    "            )\n",
    "    \n",
    "    #Clearing backend session\n",
    "    K.clear_session()\n",
    "    print(\"Backend Cleared\")\n",
    "\n",
    "    print(\"Model Creation\")\n",
    "    with strategy.scope():\n",
    "        model = create_model()\n",
    "        model.load_weights(f'../input/roberta-essay-feedback/roberta{fold}_weights.h5')\n",
    "\n",
    "    print(\"prediction on test data\")\n",
    "    preds = model.predict(test , verbose = 1)\n",
    "    preds_list.append(preds)\n",
    "    \n",
    "    del model, X_test, test , test_embeddings"
   ]
  },
  {
   "cell_type": "code",
   "execution_count": 30,
   "id": "c9edd205",
   "metadata": {
    "execution": {
     "iopub.execute_input": "2022-08-15T09:11:15.306040Z",
     "iopub.status.busy": "2022-08-15T09:11:15.305546Z",
     "iopub.status.idle": "2022-08-15T09:11:15.320295Z",
     "shell.execute_reply": "2022-08-15T09:11:15.319441Z"
    },
    "papermill": {
     "duration": 0.028271,
     "end_time": "2022-08-15T09:11:15.322347",
     "exception": false,
     "start_time": "2022-08-15T09:11:15.294076",
     "status": "completed"
    },
    "tags": []
   },
   "outputs": [],
   "source": [
    "predictions = preds_list[0]+preds_list[1]+ \\\n",
    "              preds_list[2]+preds_list[3]\n",
    "predictions = (predictions / 4)\n",
    "df_test['Adequate'] = predictions[:,0]\n",
    "df_test['Effective'] = predictions[:,1]\n",
    "df_test['Ineffective'] = predictions[:,2]"
   ]
  },
  {
   "cell_type": "code",
   "execution_count": 31,
   "id": "a4113386",
   "metadata": {
    "execution": {
     "iopub.execute_input": "2022-08-15T09:11:15.345403Z",
     "iopub.status.busy": "2022-08-15T09:11:15.344586Z",
     "iopub.status.idle": "2022-08-15T09:11:15.352771Z",
     "shell.execute_reply": "2022-08-15T09:11:15.351845Z"
    },
    "papermill": {
     "duration": 0.022054,
     "end_time": "2022-08-15T09:11:15.354838",
     "exception": false,
     "start_time": "2022-08-15T09:11:15.332784",
     "status": "completed"
    },
    "tags": []
   },
   "outputs": [],
   "source": [
    "submission_second = df_test[submission.columns]"
   ]
  },
  {
   "cell_type": "markdown",
   "id": "6f7b78cd",
   "metadata": {
    "papermill": {
     "duration": 0.010373,
     "end_time": "2022-08-15T09:11:15.375584",
     "exception": false,
     "start_time": "2022-08-15T09:11:15.365211",
     "status": "completed"
    },
    "tags": []
   },
   "source": [
    "# Final Submission combined"
   ]
  },
  {
   "cell_type": "code",
   "execution_count": 32,
   "id": "8b7795aa",
   "metadata": {
    "execution": {
     "iopub.execute_input": "2022-08-15T09:11:15.396987Z",
     "iopub.status.busy": "2022-08-15T09:11:15.396689Z",
     "iopub.status.idle": "2022-08-15T09:11:15.402932Z",
     "shell.execute_reply": "2022-08-15T09:11:15.401798Z"
    },
    "papermill": {
     "duration": 0.019139,
     "end_time": "2022-08-15T09:11:15.404833",
     "exception": false,
     "start_time": "2022-08-15T09:11:15.385694",
     "status": "completed"
    },
    "tags": []
   },
   "outputs": [
    {
     "data": {
      "text/plain": [
       "Index(['discourse_id', 'Ineffective', 'Adequate', 'Effective'], dtype='object')"
      ]
     },
     "execution_count": 32,
     "metadata": {},
     "output_type": "execute_result"
    }
   ],
   "source": [
    "submission_first.columns"
   ]
  },
  {
   "cell_type": "code",
   "execution_count": 33,
   "id": "01497309",
   "metadata": {
    "execution": {
     "iopub.execute_input": "2022-08-15T09:11:15.426927Z",
     "iopub.status.busy": "2022-08-15T09:11:15.426157Z",
     "iopub.status.idle": "2022-08-15T09:11:15.446627Z",
     "shell.execute_reply": "2022-08-15T09:11:15.445551Z"
    },
    "papermill": {
     "duration": 0.033738,
     "end_time": "2022-08-15T09:11:15.448841",
     "exception": false,
     "start_time": "2022-08-15T09:11:15.415103",
     "status": "completed"
    },
    "tags": []
   },
   "outputs": [],
   "source": [
    "submission_final = pd.merge(submission_first, submission_second[['discourse_id','Ineffective','Adequate','Effective']],\n",
    "                            on='discourse_id',how='inner')\n",
    "submission_final = pd.merge(submission_final, submission_third[['discourse_id','Ineffective','Adequate','Effective']],\n",
    "                            on='discourse_id',how='inner')"
   ]
  },
  {
   "cell_type": "code",
   "execution_count": 34,
   "id": "ab37e816",
   "metadata": {
    "execution": {
     "iopub.execute_input": "2022-08-15T09:11:15.471069Z",
     "iopub.status.busy": "2022-08-15T09:11:15.470307Z",
     "iopub.status.idle": "2022-08-15T09:11:15.485256Z",
     "shell.execute_reply": "2022-08-15T09:11:15.484207Z"
    },
    "papermill": {
     "duration": 0.027977,
     "end_time": "2022-08-15T09:11:15.487224",
     "exception": false,
     "start_time": "2022-08-15T09:11:15.459247",
     "status": "completed"
    },
    "tags": []
   },
   "outputs": [
    {
     "data": {
      "text/html": [
       "<div>\n",
       "<style scoped>\n",
       "    .dataframe tbody tr th:only-of-type {\n",
       "        vertical-align: middle;\n",
       "    }\n",
       "\n",
       "    .dataframe tbody tr th {\n",
       "        vertical-align: top;\n",
       "    }\n",
       "\n",
       "    .dataframe thead th {\n",
       "        text-align: right;\n",
       "    }\n",
       "</style>\n",
       "<table border=\"1\" class=\"dataframe\">\n",
       "  <thead>\n",
       "    <tr style=\"text-align: right;\">\n",
       "      <th></th>\n",
       "      <th>discourse_id</th>\n",
       "      <th>Ineffective_x</th>\n",
       "      <th>Adequate_x</th>\n",
       "      <th>Effective_x</th>\n",
       "      <th>Ineffective_y</th>\n",
       "      <th>Adequate_y</th>\n",
       "      <th>Effective_y</th>\n",
       "      <th>Ineffective</th>\n",
       "      <th>Adequate</th>\n",
       "      <th>Effective</th>\n",
       "    </tr>\n",
       "  </thead>\n",
       "  <tbody>\n",
       "    <tr>\n",
       "      <th>0</th>\n",
       "      <td>a261b6e14276</td>\n",
       "      <td>0.023028</td>\n",
       "      <td>0.363148</td>\n",
       "      <td>0.613824</td>\n",
       "      <td>0.038588</td>\n",
       "      <td>0.426542</td>\n",
       "      <td>0.534870</td>\n",
       "      <td>0.027848</td>\n",
       "      <td>0.483920</td>\n",
       "      <td>0.488232</td>\n",
       "    </tr>\n",
       "    <tr>\n",
       "      <th>1</th>\n",
       "      <td>5a88900e7dc1</td>\n",
       "      <td>0.033201</td>\n",
       "      <td>0.731789</td>\n",
       "      <td>0.235011</td>\n",
       "      <td>0.026656</td>\n",
       "      <td>0.529459</td>\n",
       "      <td>0.443885</td>\n",
       "      <td>0.053030</td>\n",
       "      <td>0.635413</td>\n",
       "      <td>0.311557</td>\n",
       "    </tr>\n",
       "    <tr>\n",
       "      <th>2</th>\n",
       "      <td>9790d835736b</td>\n",
       "      <td>0.013549</td>\n",
       "      <td>0.673786</td>\n",
       "      <td>0.312665</td>\n",
       "      <td>0.035395</td>\n",
       "      <td>0.433014</td>\n",
       "      <td>0.531590</td>\n",
       "      <td>0.036607</td>\n",
       "      <td>0.541733</td>\n",
       "      <td>0.421660</td>\n",
       "    </tr>\n",
       "    <tr>\n",
       "      <th>3</th>\n",
       "      <td>75ce6d68b67b</td>\n",
       "      <td>0.023127</td>\n",
       "      <td>0.480059</td>\n",
       "      <td>0.496814</td>\n",
       "      <td>0.036914</td>\n",
       "      <td>0.440101</td>\n",
       "      <td>0.522985</td>\n",
       "      <td>0.073832</td>\n",
       "      <td>0.389516</td>\n",
       "      <td>0.536652</td>\n",
       "    </tr>\n",
       "    <tr>\n",
       "      <th>4</th>\n",
       "      <td>93578d946723</td>\n",
       "      <td>0.024849</td>\n",
       "      <td>0.796667</td>\n",
       "      <td>0.178485</td>\n",
       "      <td>0.038124</td>\n",
       "      <td>0.443226</td>\n",
       "      <td>0.518650</td>\n",
       "      <td>0.029687</td>\n",
       "      <td>0.505888</td>\n",
       "      <td>0.464424</td>\n",
       "    </tr>\n",
       "  </tbody>\n",
       "</table>\n",
       "</div>"
      ],
      "text/plain": [
       "   discourse_id  Ineffective_x  Adequate_x  Effective_x  Ineffective_y  \\\n",
       "0  a261b6e14276       0.023028    0.363148     0.613824       0.038588   \n",
       "1  5a88900e7dc1       0.033201    0.731789     0.235011       0.026656   \n",
       "2  9790d835736b       0.013549    0.673786     0.312665       0.035395   \n",
       "3  75ce6d68b67b       0.023127    0.480059     0.496814       0.036914   \n",
       "4  93578d946723       0.024849    0.796667     0.178485       0.038124   \n",
       "\n",
       "   Adequate_y  Effective_y  Ineffective  Adequate  Effective  \n",
       "0    0.426542     0.534870     0.027848  0.483920   0.488232  \n",
       "1    0.529459     0.443885     0.053030  0.635413   0.311557  \n",
       "2    0.433014     0.531590     0.036607  0.541733   0.421660  \n",
       "3    0.440101     0.522985     0.073832  0.389516   0.536652  \n",
       "4    0.443226     0.518650     0.029687  0.505888   0.464424  "
      ]
     },
     "execution_count": 34,
     "metadata": {},
     "output_type": "execute_result"
    }
   ],
   "source": [
    "submission_final.head()"
   ]
  },
  {
   "cell_type": "code",
   "execution_count": 35,
   "id": "c33d758e",
   "metadata": {
    "execution": {
     "iopub.execute_input": "2022-08-15T09:11:15.509701Z",
     "iopub.status.busy": "2022-08-15T09:11:15.509439Z",
     "iopub.status.idle": "2022-08-15T09:11:15.514209Z",
     "shell.execute_reply": "2022-08-15T09:11:15.513258Z"
    },
    "papermill": {
     "duration": 0.018106,
     "end_time": "2022-08-15T09:11:15.516182",
     "exception": false,
     "start_time": "2022-08-15T09:11:15.498076",
     "status": "completed"
    },
    "tags": []
   },
   "outputs": [],
   "source": [
    "submission_final.columns = ['discourse_id','Ineffective_x',\n",
    "                            'Adequate_x','Effective_x','Ineffective_y',\n",
    "                            'Adequate_y','Effective_y','Ineffective_z',\n",
    "                            'Adequate_z','Effective_z']"
   ]
  },
  {
   "cell_type": "code",
   "execution_count": 36,
   "id": "c6a1ccaf",
   "metadata": {
    "execution": {
     "iopub.execute_input": "2022-08-15T09:11:15.539016Z",
     "iopub.status.busy": "2022-08-15T09:11:15.538111Z",
     "iopub.status.idle": "2022-08-15T09:11:15.547248Z",
     "shell.execute_reply": "2022-08-15T09:11:15.546394Z"
    },
    "papermill": {
     "duration": 0.022629,
     "end_time": "2022-08-15T09:11:15.549188",
     "exception": false,
     "start_time": "2022-08-15T09:11:15.526559",
     "status": "completed"
    },
    "tags": []
   },
   "outputs": [],
   "source": [
    "submission_final['Adequate'] = (submission_final['Adequate_x'] + \n",
    "                                submission_final['Adequate_y'] +\n",
    "                                submission_final['Adequate_z'])/3\n",
    "submission_final['Ineffective'] = (submission_final['Ineffective_x'] + \n",
    "                                   submission_final['Ineffective_y'] +\n",
    "                                   submission_final['Ineffective_z'])/3\n",
    "submission_final['Effective'] = (submission_final['Effective_x'] + \n",
    "                                 submission_final['Effective_y'] + \n",
    "                                 submission_final['Effective_z'])/3"
   ]
  },
  {
   "cell_type": "code",
   "execution_count": 37,
   "id": "dd6dd796",
   "metadata": {
    "execution": {
     "iopub.execute_input": "2022-08-15T09:11:15.571944Z",
     "iopub.status.busy": "2022-08-15T09:11:15.570975Z",
     "iopub.status.idle": "2022-08-15T09:11:15.588989Z",
     "shell.execute_reply": "2022-08-15T09:11:15.588074Z"
    },
    "papermill": {
     "duration": 0.031089,
     "end_time": "2022-08-15T09:11:15.590949",
     "exception": false,
     "start_time": "2022-08-15T09:11:15.559860",
     "status": "completed"
    },
    "tags": []
   },
   "outputs": [
    {
     "data": {
      "text/html": [
       "<div>\n",
       "<style scoped>\n",
       "    .dataframe tbody tr th:only-of-type {\n",
       "        vertical-align: middle;\n",
       "    }\n",
       "\n",
       "    .dataframe tbody tr th {\n",
       "        vertical-align: top;\n",
       "    }\n",
       "\n",
       "    .dataframe thead th {\n",
       "        text-align: right;\n",
       "    }\n",
       "</style>\n",
       "<table border=\"1\" class=\"dataframe\">\n",
       "  <thead>\n",
       "    <tr style=\"text-align: right;\">\n",
       "      <th></th>\n",
       "      <th>discourse_id</th>\n",
       "      <th>Ineffective_x</th>\n",
       "      <th>Adequate_x</th>\n",
       "      <th>Effective_x</th>\n",
       "      <th>Ineffective_y</th>\n",
       "      <th>Adequate_y</th>\n",
       "      <th>Effective_y</th>\n",
       "      <th>Ineffective_z</th>\n",
       "      <th>Adequate_z</th>\n",
       "      <th>Effective_z</th>\n",
       "      <th>Adequate</th>\n",
       "      <th>Ineffective</th>\n",
       "      <th>Effective</th>\n",
       "    </tr>\n",
       "  </thead>\n",
       "  <tbody>\n",
       "    <tr>\n",
       "      <th>0</th>\n",
       "      <td>a261b6e14276</td>\n",
       "      <td>0.023028</td>\n",
       "      <td>0.363148</td>\n",
       "      <td>0.613824</td>\n",
       "      <td>0.038588</td>\n",
       "      <td>0.426542</td>\n",
       "      <td>0.534870</td>\n",
       "      <td>0.027848</td>\n",
       "      <td>0.483920</td>\n",
       "      <td>0.488232</td>\n",
       "      <td>0.424537</td>\n",
       "      <td>0.029821</td>\n",
       "      <td>0.545642</td>\n",
       "    </tr>\n",
       "    <tr>\n",
       "      <th>1</th>\n",
       "      <td>5a88900e7dc1</td>\n",
       "      <td>0.033201</td>\n",
       "      <td>0.731789</td>\n",
       "      <td>0.235011</td>\n",
       "      <td>0.026656</td>\n",
       "      <td>0.529459</td>\n",
       "      <td>0.443885</td>\n",
       "      <td>0.053030</td>\n",
       "      <td>0.635413</td>\n",
       "      <td>0.311557</td>\n",
       "      <td>0.632220</td>\n",
       "      <td>0.037629</td>\n",
       "      <td>0.330151</td>\n",
       "    </tr>\n",
       "    <tr>\n",
       "      <th>2</th>\n",
       "      <td>9790d835736b</td>\n",
       "      <td>0.013549</td>\n",
       "      <td>0.673786</td>\n",
       "      <td>0.312665</td>\n",
       "      <td>0.035395</td>\n",
       "      <td>0.433014</td>\n",
       "      <td>0.531590</td>\n",
       "      <td>0.036607</td>\n",
       "      <td>0.541733</td>\n",
       "      <td>0.421660</td>\n",
       "      <td>0.549511</td>\n",
       "      <td>0.028517</td>\n",
       "      <td>0.421972</td>\n",
       "    </tr>\n",
       "    <tr>\n",
       "      <th>3</th>\n",
       "      <td>75ce6d68b67b</td>\n",
       "      <td>0.023127</td>\n",
       "      <td>0.480059</td>\n",
       "      <td>0.496814</td>\n",
       "      <td>0.036914</td>\n",
       "      <td>0.440101</td>\n",
       "      <td>0.522985</td>\n",
       "      <td>0.073832</td>\n",
       "      <td>0.389516</td>\n",
       "      <td>0.536652</td>\n",
       "      <td>0.436559</td>\n",
       "      <td>0.044624</td>\n",
       "      <td>0.518817</td>\n",
       "    </tr>\n",
       "    <tr>\n",
       "      <th>4</th>\n",
       "      <td>93578d946723</td>\n",
       "      <td>0.024849</td>\n",
       "      <td>0.796667</td>\n",
       "      <td>0.178485</td>\n",
       "      <td>0.038124</td>\n",
       "      <td>0.443226</td>\n",
       "      <td>0.518650</td>\n",
       "      <td>0.029687</td>\n",
       "      <td>0.505888</td>\n",
       "      <td>0.464424</td>\n",
       "      <td>0.581927</td>\n",
       "      <td>0.030887</td>\n",
       "      <td>0.387186</td>\n",
       "    </tr>\n",
       "    <tr>\n",
       "      <th>5</th>\n",
       "      <td>2e214524dbe3</td>\n",
       "      <td>0.020794</td>\n",
       "      <td>0.267092</td>\n",
       "      <td>0.712114</td>\n",
       "      <td>0.029021</td>\n",
       "      <td>0.422849</td>\n",
       "      <td>0.548129</td>\n",
       "      <td>0.018476</td>\n",
       "      <td>0.332572</td>\n",
       "      <td>0.648951</td>\n",
       "      <td>0.340838</td>\n",
       "      <td>0.022764</td>\n",
       "      <td>0.636398</td>\n",
       "    </tr>\n",
       "    <tr>\n",
       "      <th>6</th>\n",
       "      <td>84812fc2ab9f</td>\n",
       "      <td>0.011068</td>\n",
       "      <td>0.132132</td>\n",
       "      <td>0.856801</td>\n",
       "      <td>0.031856</td>\n",
       "      <td>0.349725</td>\n",
       "      <td>0.618419</td>\n",
       "      <td>0.017008</td>\n",
       "      <td>0.281306</td>\n",
       "      <td>0.701685</td>\n",
       "      <td>0.254388</td>\n",
       "      <td>0.019977</td>\n",
       "      <td>0.725635</td>\n",
       "    </tr>\n",
       "    <tr>\n",
       "      <th>7</th>\n",
       "      <td>c668ff840720</td>\n",
       "      <td>0.016864</td>\n",
       "      <td>0.579370</td>\n",
       "      <td>0.403767</td>\n",
       "      <td>0.039587</td>\n",
       "      <td>0.412665</td>\n",
       "      <td>0.547749</td>\n",
       "      <td>0.022768</td>\n",
       "      <td>0.414298</td>\n",
       "      <td>0.562935</td>\n",
       "      <td>0.468777</td>\n",
       "      <td>0.026406</td>\n",
       "      <td>0.504817</td>\n",
       "    </tr>\n",
       "    <tr>\n",
       "      <th>8</th>\n",
       "      <td>739a6d00f44a</td>\n",
       "      <td>0.096340</td>\n",
       "      <td>0.625865</td>\n",
       "      <td>0.277795</td>\n",
       "      <td>0.036871</td>\n",
       "      <td>0.338430</td>\n",
       "      <td>0.624699</td>\n",
       "      <td>0.050354</td>\n",
       "      <td>0.495189</td>\n",
       "      <td>0.454457</td>\n",
       "      <td>0.486495</td>\n",
       "      <td>0.061188</td>\n",
       "      <td>0.452317</td>\n",
       "    </tr>\n",
       "    <tr>\n",
       "      <th>9</th>\n",
       "      <td>bcfae2c9a244</td>\n",
       "      <td>0.009863</td>\n",
       "      <td>0.423207</td>\n",
       "      <td>0.566929</td>\n",
       "      <td>0.032724</td>\n",
       "      <td>0.478928</td>\n",
       "      <td>0.488348</td>\n",
       "      <td>0.013215</td>\n",
       "      <td>0.486243</td>\n",
       "      <td>0.500543</td>\n",
       "      <td>0.462793</td>\n",
       "      <td>0.018601</td>\n",
       "      <td>0.518607</td>\n",
       "    </tr>\n",
       "  </tbody>\n",
       "</table>\n",
       "</div>"
      ],
      "text/plain": [
       "   discourse_id  Ineffective_x  Adequate_x  Effective_x  Ineffective_y  \\\n",
       "0  a261b6e14276       0.023028    0.363148     0.613824       0.038588   \n",
       "1  5a88900e7dc1       0.033201    0.731789     0.235011       0.026656   \n",
       "2  9790d835736b       0.013549    0.673786     0.312665       0.035395   \n",
       "3  75ce6d68b67b       0.023127    0.480059     0.496814       0.036914   \n",
       "4  93578d946723       0.024849    0.796667     0.178485       0.038124   \n",
       "5  2e214524dbe3       0.020794    0.267092     0.712114       0.029021   \n",
       "6  84812fc2ab9f       0.011068    0.132132     0.856801       0.031856   \n",
       "7  c668ff840720       0.016864    0.579370     0.403767       0.039587   \n",
       "8  739a6d00f44a       0.096340    0.625865     0.277795       0.036871   \n",
       "9  bcfae2c9a244       0.009863    0.423207     0.566929       0.032724   \n",
       "\n",
       "   Adequate_y  Effective_y  Ineffective_z  Adequate_z  Effective_z  Adequate  \\\n",
       "0    0.426542     0.534870       0.027848    0.483920     0.488232  0.424537   \n",
       "1    0.529459     0.443885       0.053030    0.635413     0.311557  0.632220   \n",
       "2    0.433014     0.531590       0.036607    0.541733     0.421660  0.549511   \n",
       "3    0.440101     0.522985       0.073832    0.389516     0.536652  0.436559   \n",
       "4    0.443226     0.518650       0.029687    0.505888     0.464424  0.581927   \n",
       "5    0.422849     0.548129       0.018476    0.332572     0.648951  0.340838   \n",
       "6    0.349725     0.618419       0.017008    0.281306     0.701685  0.254388   \n",
       "7    0.412665     0.547749       0.022768    0.414298     0.562935  0.468777   \n",
       "8    0.338430     0.624699       0.050354    0.495189     0.454457  0.486495   \n",
       "9    0.478928     0.488348       0.013215    0.486243     0.500543  0.462793   \n",
       "\n",
       "   Ineffective  Effective  \n",
       "0     0.029821   0.545642  \n",
       "1     0.037629   0.330151  \n",
       "2     0.028517   0.421972  \n",
       "3     0.044624   0.518817  \n",
       "4     0.030887   0.387186  \n",
       "5     0.022764   0.636398  \n",
       "6     0.019977   0.725635  \n",
       "7     0.026406   0.504817  \n",
       "8     0.061188   0.452317  \n",
       "9     0.018601   0.518607  "
      ]
     },
     "execution_count": 37,
     "metadata": {},
     "output_type": "execute_result"
    }
   ],
   "source": [
    "submission_final"
   ]
  },
  {
   "cell_type": "code",
   "execution_count": 38,
   "id": "79316424",
   "metadata": {
    "execution": {
     "iopub.execute_input": "2022-08-15T09:11:15.614869Z",
     "iopub.status.busy": "2022-08-15T09:11:15.614002Z",
     "iopub.status.idle": "2022-08-15T09:11:15.622856Z",
     "shell.execute_reply": "2022-08-15T09:11:15.621937Z"
    },
    "papermill": {
     "duration": 0.022865,
     "end_time": "2022-08-15T09:11:15.624814",
     "exception": false,
     "start_time": "2022-08-15T09:11:15.601949",
     "status": "completed"
    },
    "tags": []
   },
   "outputs": [],
   "source": [
    "submission_final[submission.columns].to_csv(\"submission.csv\", index=False)"
   ]
  },
  {
   "cell_type": "code",
   "execution_count": null,
   "id": "14aafc3c",
   "metadata": {
    "papermill": {
     "duration": 0.010697,
     "end_time": "2022-08-15T09:11:15.646248",
     "exception": false,
     "start_time": "2022-08-15T09:11:15.635551",
     "status": "completed"
    },
    "tags": []
   },
   "outputs": [],
   "source": []
  }
 ],
 "metadata": {
  "kernelspec": {
   "display_name": "Python 3",
   "language": "python",
   "name": "python3"
  },
  "language_info": {
   "codemirror_mode": {
    "name": "ipython",
    "version": 3
   },
   "file_extension": ".py",
   "mimetype": "text/x-python",
   "name": "python",
   "nbconvert_exporter": "python",
   "pygments_lexer": "ipython3",
   "version": "3.7.12"
  },
  "papermill": {
   "default_parameters": {},
   "duration": 313.460235,
   "end_time": "2022-08-15T09:11:19.216881",
   "environment_variables": {},
   "exception": null,
   "input_path": "__notebook__.ipynb",
   "output_path": "__notebook__.ipynb",
   "parameters": {},
   "start_time": "2022-08-15T09:06:05.756646",
   "version": "2.3.4"
  }
 },
 "nbformat": 4,
 "nbformat_minor": 5
}
